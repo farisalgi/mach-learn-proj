{
 "cells": [
  {
   "cell_type": "code",
   "execution_count": 158,
   "metadata": {},
   "outputs": [],
   "source": [
    "import pandas as pd\n",
    "import numpy as np\n",
    "from sklearn.model_selection import train_test_split, GridSearchCV, KFold\n",
    "from sklearn.neural_network import MLPRegressor\n",
    "from sklearn.preprocessing import StandardScaler\n",
    "from sklearn.metrics import mean_squared_error, r2_score\n",
    "from sklearn.pipeline import Pipeline\n",
    "import matplotlib.pyplot as plt\n"
   ]
  },
  {
   "cell_type": "code",
   "execution_count": 136,
   "metadata": {},
   "outputs": [],
   "source": [
    "def clean_data(df):\n",
    "    for col in df.columns:\n",
    "        if df[col].dtype == 'object':\n",
    "            df[col] = df[col].str.replace(\",\", \"\").str.replace(\"$\", \"\").astype(float)\n",
    "    return df.dropna()"
   ]
  },
  {
   "cell_type": "code",
   "execution_count": 159,
   "metadata": {},
   "outputs": [],
   "source": [
    "# Function to create a scatter plot comparing actual and predicted values\n",
    "def plot_actual_vs_predicted(y_actual, y_pred, title):\n",
    "    plt.scatter(y_actual, y_pred)\n",
    "    plt.xlabel(\"Actual\")\n",
    "    plt.ylabel(\"Predicted\")\n",
    "    plt.title(title)\n",
    "\n",
    "    # Add a diagonal line to show where the predictions should lie if they were perfect\n",
    "    min_value = min(y_actual.min(), y_pred.min())\n",
    "    max_value = max(y_actual.max(), y_pred.max())\n",
    "    plt.plot([min_value, max_value], [min_value, max_value], 'k--')\n",
    "\n",
    "    plt.show()"
   ]
  },
  {
   "cell_type": "code",
   "execution_count": 137,
   "metadata": {},
   "outputs": [
    {
     "name": "stdout",
     "output_type": "stream",
     "text": [
      "GDP                                  0\n",
      "Exports                              0\n",
      "Imports                              0\n",
      "Industrial production growth rate    0\n",
      "Investment                           0\n",
      "Unemployment rate                    0\n",
      "dtype: int64\n"
     ]
    },
    {
     "name": "stderr",
     "output_type": "stream",
     "text": [
      "C:\\Users\\Luxford\\AppData\\Local\\Temp\\ipykernel_13688\\4068154764.py:4: FutureWarning: The default value of regex will change from True to False in a future version. In addition, single character regular expressions will *not* be treated as literal strings when regex=True.\n",
      "  df[col] = df[col].str.replace(\",\", \"\").str.replace(\"$\", \"\").astype(float)\n",
      "C:\\Users\\Luxford\\AppData\\Local\\Temp\\ipykernel_13688\\4068154764.py:4: SettingWithCopyWarning: \n",
      "A value is trying to be set on a copy of a slice from a DataFrame.\n",
      "Try using .loc[row_indexer,col_indexer] = value instead\n",
      "\n",
      "See the caveats in the documentation: https://pandas.pydata.org/pandas-docs/stable/user_guide/indexing.html#returning-a-view-versus-a-copy\n",
      "  df[col] = df[col].str.replace(\",\", \"\").str.replace(\"$\", \"\").astype(float)\n"
     ]
    },
    {
     "data": {
      "text/html": [
       "<div>\n",
       "<style scoped>\n",
       "    .dataframe tbody tr th:only-of-type {\n",
       "        vertical-align: middle;\n",
       "    }\n",
       "\n",
       "    .dataframe tbody tr th {\n",
       "        vertical-align: top;\n",
       "    }\n",
       "\n",
       "    .dataframe thead th {\n",
       "        text-align: right;\n",
       "    }\n",
       "</style>\n",
       "<table border=\"1\" class=\"dataframe\">\n",
       "  <thead>\n",
       "    <tr style=\"text-align: right;\">\n",
       "      <th></th>\n",
       "      <th>GDP</th>\n",
       "      <th>Exports</th>\n",
       "      <th>Imports</th>\n",
       "      <th>Industrial production growth rate</th>\n",
       "      <th>Investment</th>\n",
       "      <th>Unemployment rate</th>\n",
       "    </tr>\n",
       "  </thead>\n",
       "  <tbody>\n",
       "    <tr>\n",
       "      <th>0</th>\n",
       "      <td>1.746000e+10</td>\n",
       "      <td>5.524000e+08</td>\n",
       "      <td>2.076000e+09</td>\n",
       "      <td>3.1</td>\n",
       "      <td>18.4</td>\n",
       "      <td>14.8</td>\n",
       "    </tr>\n",
       "    <tr>\n",
       "      <th>1</th>\n",
       "      <td>2.123000e+11</td>\n",
       "      <td>3.216000e+10</td>\n",
       "      <td>1.525000e+10</td>\n",
       "      <td>6.0</td>\n",
       "      <td>26.2</td>\n",
       "      <td>25.4</td>\n",
       "    </tr>\n",
       "    <tr>\n",
       "      <th>3</th>\n",
       "      <td>4.835000e+11</td>\n",
       "      <td>3.378000e+10</td>\n",
       "      <td>2.206000e+10</td>\n",
       "      <td>12.0</td>\n",
       "      <td>18.3</td>\n",
       "      <td>14.8</td>\n",
       "    </tr>\n",
       "    <tr>\n",
       "      <th>4</th>\n",
       "      <td>1.365000e+10</td>\n",
       "      <td>8.500000e+08</td>\n",
       "      <td>1.300000e+09</td>\n",
       "      <td>15.0</td>\n",
       "      <td>19.8</td>\n",
       "      <td>30.0</td>\n",
       "    </tr>\n",
       "    <tr>\n",
       "      <th>5</th>\n",
       "      <td>6.117000e+11</td>\n",
       "      <td>8.689000e+10</td>\n",
       "      <td>9.810000e+10</td>\n",
       "      <td>1.9</td>\n",
       "      <td>25.3</td>\n",
       "      <td>5.1</td>\n",
       "    </tr>\n",
       "  </tbody>\n",
       "</table>\n",
       "</div>"
      ],
      "text/plain": [
       "            GDP       Exports       Imports  \\\n",
       "0  1.746000e+10  5.524000e+08  2.076000e+09   \n",
       "1  2.123000e+11  3.216000e+10  1.525000e+10   \n",
       "3  4.835000e+11  3.378000e+10  2.206000e+10   \n",
       "4  1.365000e+10  8.500000e+08  1.300000e+09   \n",
       "5  6.117000e+11  8.689000e+10  9.810000e+10   \n",
       "\n",
       "   Industrial production growth rate  Investment  Unemployment rate  \n",
       "0                                3.1        18.4               14.8  \n",
       "1                                6.0        26.2               25.4  \n",
       "3                               12.0        18.3               14.8  \n",
       "4                               15.0        19.8               30.0  \n",
       "5                                1.9        25.3                5.1  "
      ]
     },
     "execution_count": 137,
     "metadata": {},
     "output_type": "execute_result"
    }
   ],
   "source": [
    "# Read data\n",
    "data = pd.read_csv(\"C:/Users/Luxford/Documents/Lesson/AD/factbookv2.csv\")\n",
    "\n",
    "# Filter and process the data\n",
    "data_dipake = [\"GDP\", \"Exports\", \"Imports\", \"Industrial production growth rate\", \"Investment\", \"Unemployment rate\"]\n",
    "df = clean_data(data[data_dipake])\n",
    "\n",
    "# Check for missing values and display the first five rows\n",
    "print(df.isnull().sum())\n",
    "df.head()"
   ]
  },
  {
   "cell_type": "code",
   "execution_count": 138,
   "metadata": {},
   "outputs": [],
   "source": [
    "# Normalize the data\n",
    "scaler = StandardScaler()\n",
    "df_normalized = scaler.fit_transform(df)"
   ]
  },
  {
   "cell_type": "code",
   "execution_count": 139,
   "metadata": {},
   "outputs": [],
   "source": [
    "# Split the data into inputs (X) and output (y)\n",
    "X = df_normalized[:, 1:]\n",
    "y = df_normalized[:, 0]"
   ]
  },
  {
   "cell_type": "code",
   "execution_count": 140,
   "metadata": {},
   "outputs": [],
   "source": [
    "# Split the data into training and test sets\n",
    "X_train, X_test, y_train, y_test = train_test_split(X, y, test_size=0.2, random_state=42)"
   ]
  },
  {
   "cell_type": "code",
   "execution_count": 147,
   "metadata": {},
   "outputs": [],
   "source": [
    "# Create the MLP model\n",
    "mlp = MLPRegressor(max_iter=500, random_state=42)"
   ]
  },
  {
   "cell_type": "code",
   "execution_count": 146,
   "metadata": {},
   "outputs": [],
   "source": [
    "# Create a pipeline\n",
    "pipeline = Pipeline([('scaler', StandardScaler()), ('mlp', mlp)])"
   ]
  },
  {
   "cell_type": "code",
   "execution_count": 155,
   "metadata": {},
   "outputs": [],
   "source": [
    "# Define the hyperparameter search space\n",
    "param_grid = {\n",
    "    'mlp__hidden_layer_sizes': [(50,), (100,), (150,), (50, 50), (50, 50, 50), (100, 100), (100, 100, 100)],\n",
    "    'mlp__activation': ['relu', 'tanh', 'logistic'],\n",
    "    'mlp__solver': ['adam', 'lbfgs', 'sgd'],\n",
    "    'mlp__alpha': [0.00001, 0.0001, 0.001, 0.01, 0.1],\n",
    "    'mlp__learning_rate': ['constant', 'adaptive'],\n",
    "    'mlp__max_iter': [500, 1000],\n",
    "    'mlp__early_stopping': [True],\n",
    "    'mlp__validation_fraction': [0.1, 0.2]\n",
    "}"
   ]
  },
  {
   "cell_type": "code",
   "execution_count": 156,
   "metadata": {},
   "outputs": [
    {
     "name": "stdout",
     "output_type": "stream",
     "text": [
      "Fitting 5 folds for each of 2520 candidates, totalling 12600 fits\n",
      "Best parameters found:  {'mlp__activation': 'relu', 'mlp__alpha': 0.0001, 'mlp__early_stopping': True, 'mlp__hidden_layer_sizes': (100, 100), 'mlp__learning_rate': 'constant', 'mlp__max_iter': 500, 'mlp__solver': 'lbfgs', 'mlp__validation_fraction': 0.1}\n",
      "Best score found:  0.21814446938075654\n"
     ]
    }
   ],
   "source": [
    "# Create a cross-validation strategy\n",
    "cv = KFold(n_splits=5, shuffle=True, random_state=42)\n",
    "\n",
    "# Perform the Grid Search\n",
    "grid_search = GridSearchCV(pipeline, param_grid, scoring='neg_mean_squared_error', cv=cv, n_jobs=-1, verbose=2)\n",
    "grid_search.fit(X, y)\n",
    "\n",
    "# Print the best parameters and score\n",
    "print(\"Best parameters found: \", grid_search.best_params_)\n",
    "print(\"Best score found: \", -grid_search.best_score_)"
   ]
  },
  {
   "cell_type": "code",
   "execution_count": 160,
   "metadata": {},
   "outputs": [
    {
     "name": "stdout",
     "output_type": "stream",
     "text": [
      "Training set - Mean Squared Error:  2.0782941694813083e-05\n",
      "Training set - R-squared:  0.9999529575579882\n"
     ]
    },
    {
     "data": {
      "image/png": "[encoded data removed]",
      "text/plain": [
       "<Figure size 640x480 with 1 Axes>"
      ]
     },
     "metadata": {},
     "output_type": "display_data"
    },
    {
     "name": "stdout",
     "output_type": "stream",
     "text": [
      "Test set - Mean Squared Error:  5.114359799461037e-06\n",
      "Test set - R-squared:  0.9999983050293667\n"
     ]
    },
    {
     "data": {
      "image/png": "[encoded data removed]",
      "text/plain": [
       "<Figure size 640x480 with 1 Axes>"
      ]
     },
     "metadata": {},
     "output_type": "display_data"
    }
   ],
   "source": [
    "y_train_pred = grid_search.predict(X_train)\n",
    "train_mse = mean_squared_error(y_train, y_train_pred)\n",
    "train_r2 = r2_score(y_train, y_train_pred)\n",
    "print(\"Training set - Mean Squared Error: \", train_mse)\n",
    "print(\"Training set - R-squared: \", train_r2)\n",
    "plot_actual_vs_predicted(y_train, y_train_pred, \"Training Set - Actual vs Predicted\")\n",
    "\n",
    "# Evaluate the model on the test set and plot the results\n",
    "y_test_pred = grid_search.predict(X_test)\n",
    "test_mse = mean_squared_error(y_test, y_test_pred)\n",
    "test_r2 = r2_score(y_test, y_test_pred)\n",
    "print(\"Test set - Mean Squared Error: \", test_mse)\n",
    "print(\"Test set - R-squared: \", test_r2)\n",
    "plot_actual_vs_predicted(y_test, y_test_pred, \"Test Set - Actual vs Predicted\")"
   ]
  }
 ],
 "metadata": {
  "kernelspec": {
   "display_name": "base",
   "language": "python",
   "name": "python3"
  },
  "language_info": {
   "codemirror_mode": {
    "name": "ipython",
    "version": 3
   },
   "file_extension": ".py",
   "mimetype": "text/x-python",
   "name": "python",
   "nbconvert_exporter": "python",
   "pygments_lexer": "ipython3",
   "version": "3.10.9"
  },
  "orig_nbformat": 4
 },
 "nbformat": 4,
 "nbformat_minor": 2
}
